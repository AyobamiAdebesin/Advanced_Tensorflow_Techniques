{
 "cells": [
  {
   "cell_type": "markdown",
   "id": "e6fea085",
   "metadata": {},
   "source": [
    "## Building Custom Models"
   ]
  },
  {
   "cell_type": "code",
   "execution_count": 7,
   "id": "0a1a661a",
   "metadata": {},
   "outputs": [],
   "source": [
    "import numpy as np\n",
    "import tensorflow as tf \n",
    "import keras\n",
    "import matplotlib.pyplot as plt\n",
    "from keras import backend as  K\n",
    "from tensorflow.keras.layers import Layer, Dense, Lambda, Input, concatenate\n",
    "from tensorflow.keras.models import Model\n",
    "from tensorflow.keras.utils import plot_model\n",
    "import pydot\n",
    "import graphviz"
   ]
  },
  {
   "cell_type": "code",
   "execution_count": 8,
   "id": "683bc7a2",
   "metadata": {},
   "outputs": [],
   "source": [
    "# Build the model\n",
    "deep_input  = Input(shape=(8,))\n",
    "wide_input = Input(shape=(8,))\n",
    "layer_1 = Dense(128, activation='relu')(deep_input)\n",
    "layer_2 = Dense(128, activation='relu')(layer_1)\n",
    "output_a = Dense(1, activation='sigmoid')(layer_2)\n",
    "concat_layer = concatenate([wide_input, layer_2])\n",
    "output_b = Dense(1, activation='sigmoid')(concat_layer)\n",
    "model = Model(inputs=[deep_input, wide_input], outputs= [output_a, output_b])"
   ]
  },
  {
   "cell_type": "code",
   "execution_count": 24,
   "id": "12ff9317",
   "metadata": {},
   "outputs": [],
   "source": [
    "## Build model with class\n",
    "class WideAndDeepModel(Model):\n",
    "    def __init__(self, units=30, activation='relu', **kwargs):\n",
    "        super().__init__(**kwargs)\n",
    "        self.hidden1 = Dense(units, activation=activation)\n",
    "        self.hidden2 = Dense(units, activation=activation)\n",
    "        self.main_output = Dense(1)\n",
    "        self.aux_output = Dense(1)\n",
    "        \n",
    "    def call(self, inputs):\n",
    "        input_A, input_B = inputs\n",
    "        hidden1 = self.hidden1(input_B)\n",
    "        hidden2 = self.hidden2(hidden1)\n",
    "        concat = concatenate([input_A, hidden2])\n",
    "        main_output = self.main_output(concat)\n",
    "        aux_output = self.aux_output(hidden2)\n",
    "        \n",
    "        return (main_output, aux_output)\n",
    "    "
   ]
  },
  {
   "cell_type": "code",
   "execution_count": 25,
   "id": "52badf3d",
   "metadata": {},
   "outputs": [],
   "source": [
    "model = WideAndDeepModel()\n",
    "i_A = Input(shape=(8,))\n",
    "i_B = Input(shape=(8,))\n",
    "inputss = (i_A, i_B)"
   ]
  },
  {
   "cell_type": "code",
   "execution_count": 29,
   "id": "00e25f4f",
   "metadata": {},
   "outputs": [
    {
     "ename": "AttributeError",
     "evalue": "'tuple' object has no attribute 'summary'",
     "output_type": "error",
     "traceback": [
      "\u001b[1;31m---------------------------------------------------------------------------\u001b[0m",
      "\u001b[1;31mAttributeError\u001b[0m                            Traceback (most recent call last)",
      "\u001b[1;32m~\\AppData\\Local\\Temp/ipykernel_10404/331332802.py\u001b[0m in \u001b[0;36m<module>\u001b[1;34m\u001b[0m\n\u001b[1;32m----> 1\u001b[1;33m \u001b[0mmodel\u001b[0m\u001b[1;33m(\u001b[0m\u001b[0minputs\u001b[0m\u001b[1;33m)\u001b[0m\u001b[1;33m.\u001b[0m\u001b[0msummary\u001b[0m\u001b[1;33m(\u001b[0m\u001b[1;33m)\u001b[0m\u001b[1;33m\u001b[0m\u001b[1;33m\u001b[0m\u001b[0m\n\u001b[0m",
      "\u001b[1;31mAttributeError\u001b[0m: 'tuple' object has no attribute 'summary'"
     ]
    }
   ],
   "source": [
    "model().summary()"
   ]
  },
  {
   "cell_type": "code",
   "execution_count": null,
   "id": "96293a0b",
   "metadata": {},
   "outputs": [],
   "source": []
  }
 ],
 "metadata": {
  "kernelspec": {
   "display_name": "Python 3 (ipykernel)",
   "language": "python",
   "name": "python3"
  },
  "language_info": {
   "codemirror_mode": {
    "name": "ipython",
    "version": 3
   },
   "file_extension": ".py",
   "mimetype": "text/x-python",
   "name": "python",
   "nbconvert_exporter": "python",
   "pygments_lexer": "ipython3",
   "version": "3.9.7"
  }
 },
 "nbformat": 4,
 "nbformat_minor": 5
}
