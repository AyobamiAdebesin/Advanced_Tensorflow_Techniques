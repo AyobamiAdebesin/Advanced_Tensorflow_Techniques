{
 "cells": [
  {
   "cell_type": "markdown",
   "id": "fdf7d35e",
   "metadata": {},
   "source": [
    "### In-built Loss"
   ]
  },
  {
   "cell_type": "code",
   "execution_count": 1,
   "id": "499ec59f",
   "metadata": {},
   "outputs": [],
   "source": [
    "import tensorflow as tf\n",
    "import numpy as np\n",
    "from tensorflow.keras.models import Sequential\n",
    "from tensorflow.keras.layers import Dense"
   ]
  },
  {
   "cell_type": "code",
   "execution_count": 2,
   "id": "f87ce3ba",
   "metadata": {},
   "outputs": [],
   "source": [
    "# inputs\n",
    "xs = np.array([-1.0,  0.0, 1.0, 2.0, 3.0, 4.0], dtype=float)\n",
    "\n",
    "# labels\n",
    "ys = np.array([-3.0, -1.0, 1.0, 3.0, 5.0, 7.0], dtype=float)"
   ]
  },
  {
   "cell_type": "code",
   "execution_count": 5,
   "id": "427fa6a6",
   "metadata": {},
   "outputs": [
    {
     "name": "stdout",
     "output_type": "stream",
     "text": [
      "[[18.984509]]\n"
     ]
    }
   ],
   "source": [
    "model = tf.keras.Sequential([tf.keras.layers.Dense(units=1, input_shape=[1])])\n",
    "model.compile(optimizer='sgd', loss='mean_squared_error')\n",
    "model.fit(xs, ys, epochs=500,verbose=0)\n",
    "\n",
    "print(model.predict([10.0]))"
   ]
  },
  {
   "cell_type": "markdown",
   "id": "a33e5379",
   "metadata": {},
   "source": [
    "### Custom Loss"
   ]
  },
  {
   "cell_type": "code",
   "execution_count": 9,
   "id": "25385652",
   "metadata": {},
   "outputs": [],
   "source": [
    "def huber_loss(y_true, y_pred):\n",
    "    threshold  = 1\n",
    "    error = y_true - y_pred\n",
    "    condition = tf.abs(error) <= threshold\n",
    "    small_error = tf.square(error) / 2\n",
    "    large_error = threshold * (tf.abs(error) - 0.5 * threshold)\n",
    "    return tf.where(condition, small_error, large_error)"
   ]
  },
  {
   "cell_type": "code",
   "execution_count": 11,
   "id": "09c590a8",
   "metadata": {},
   "outputs": [
    {
     "name": "stdout",
     "output_type": "stream",
     "text": [
      "[[18.769733]]\n"
     ]
    }
   ],
   "source": [
    "model = tf.keras.Sequential([tf.keras.layers.Dense(units=1, input_shape=[1])])\n",
    "model.compile(optimizer='sgd', loss=huber_loss)\n",
    "model.fit(xs, ys, epochs=500,verbose=0)\n",
    "print(model.predict([10.0]))"
   ]
  },
  {
   "cell_type": "markdown",
   "id": "8d6f8921",
   "metadata": {},
   "source": [
    "### Custom Loss with hyperparameter"
   ]
  },
  {
   "cell_type": "code",
   "execution_count": 15,
   "id": "3dc04770",
   "metadata": {},
   "outputs": [],
   "source": [
    "def huber_loss_with_threshold(threshold):\n",
    "    def huber_loss(y_true, y_pred):\n",
    "        error = y_true - y_pred\n",
    "        condition = tf.abs(error) <= threshold\n",
    "        small_error = tf.square(error) / 2\n",
    "        large_error = threshold * (tf.abs(error) - 0.5 * threshold)\n",
    "        return tf.where(condition, small_error, large_error)\n",
    "    return huber_loss"
   ]
  },
  {
   "cell_type": "code",
   "execution_count": 19,
   "id": "fff34559",
   "metadata": {},
   "outputs": [
    {
     "name": "stdout",
     "output_type": "stream",
     "text": [
      "WARNING:tensorflow:5 out of the last 5 calls to <function Model.make_predict_function.<locals>.predict_function at 0x0000024273A98280> triggered tf.function retracing. Tracing is expensive and the excessive number of tracings could be due to (1) creating @tf.function repeatedly in a loop, (2) passing tensors with different shapes, (3) passing Python objects instead of tensors. For (1), please define your @tf.function outside of the loop. For (2), @tf.function has experimental_relax_shapes=True option that relaxes argument shapes that can avoid unnecessary retracing. For (3), please refer to https://www.tensorflow.org/guide/function#controlling_retracing and https://www.tensorflow.org/api_docs/python/tf/function for  more details.\n",
      "[[18.65498]]\n"
     ]
    }
   ],
   "source": [
    "model = tf.keras.Sequential([tf.keras.layers.Dense(units=1, input_shape=[1])])\n",
    "model.compile(optimizer='sgd', loss=huber_loss_with_threshold(1))\n",
    "model.fit(xs, ys, epochs=500,verbose=0)\n",
    "print(model.predict([10.0]))"
   ]
  },
  {
   "cell_type": "markdown",
   "id": "f9cf5253",
   "metadata": {},
   "source": [
    "### Custom Loss as a Class"
   ]
  },
  {
   "cell_type": "code",
   "execution_count": 26,
   "id": "2a0d98a9",
   "metadata": {},
   "outputs": [],
   "source": [
    "from tensorflow.keras.losses import Loss\n",
    "\n",
    "class HuberLoss(Loss):\n",
    "    threshold = 1\n",
    "    def __init__(self,threshold):\n",
    "        super().__init__()\n",
    "        self.threshold = threshold\n",
    "        \n",
    "    def call(self, y_true, y_pred):\n",
    "        error = y_true - y_pred\n",
    "        condition = tf.abs(error) <= self.threshold\n",
    "        small_error = tf.square(error) / 2\n",
    "        large_error = self.threshold * (tf.abs(error) - 0.5 * self.threshold)\n",
    "        return tf.where(condition, small_error, large_error)"
   ]
  },
  {
   "cell_type": "code",
   "execution_count": 27,
   "id": "de688f2b",
   "metadata": {},
   "outputs": [
    {
     "name": "stdout",
     "output_type": "stream",
     "text": [
      "WARNING:tensorflow:6 out of the last 6 calls to <function Model.make_predict_function.<locals>.predict_function at 0x0000024273A88940> triggered tf.function retracing. Tracing is expensive and the excessive number of tracings could be due to (1) creating @tf.function repeatedly in a loop, (2) passing tensors with different shapes, (3) passing Python objects instead of tensors. For (1), please define your @tf.function outside of the loop. For (2), @tf.function has experimental_relax_shapes=True option that relaxes argument shapes that can avoid unnecessary retracing. For (3), please refer to https://www.tensorflow.org/guide/function#controlling_retracing and https://www.tensorflow.org/api_docs/python/tf/function for  more details.\n",
      "[[18.5764]]\n"
     ]
    }
   ],
   "source": [
    "model = tf.keras.Sequential([tf.keras.layers.Dense(units=1, input_shape=[1])])\n",
    "model.compile(optimizer='sgd', loss=HuberLoss(threshold = 1))\n",
    "model.fit(xs, ys, epochs=500,verbose=0)\n",
    "print(model.predict([10.0]))"
   ]
  },
  {
   "cell_type": "code",
   "execution_count": null,
   "id": "f63cfaeb",
   "metadata": {},
   "outputs": [],
   "source": []
  }
 ],
 "metadata": {
  "kernelspec": {
   "display_name": "Python 3 (ipykernel)",
   "language": "python",
   "name": "python3"
  },
  "language_info": {
   "codemirror_mode": {
    "name": "ipython",
    "version": 3
   },
   "file_extension": ".py",
   "mimetype": "text/x-python",
   "name": "python",
   "nbconvert_exporter": "python",
   "pygments_lexer": "ipython3",
   "version": "3.9.7"
  }
 },
 "nbformat": 4,
 "nbformat_minor": 5
}
