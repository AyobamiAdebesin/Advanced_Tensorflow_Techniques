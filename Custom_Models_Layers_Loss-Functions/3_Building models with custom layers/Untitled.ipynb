{
 "cells": [
  {
   "cell_type": "markdown",
   "id": "424faf9f",
   "metadata": {},
   "source": [
    "### Custom Layers"
   ]
  },
  {
   "cell_type": "code",
   "execution_count": 5,
   "id": "35fe9113",
   "metadata": {},
   "outputs": [],
   "source": [
    "import tensorflow as tf\n",
    "import numpy as np\n",
    "from keras import backend as K\n",
    "from tensorflow.keras.losses import Loss\n",
    "from tensorflow.keras.layers import Layer\n",
    "from tensorflow.keras.layers import Dense, Lambda, Flatten"
   ]
  },
  {
   "cell_type": "code",
   "execution_count": 33,
   "id": "2374dc7c",
   "metadata": {},
   "outputs": [
    {
     "name": "stdout",
     "output_type": "stream",
     "text": [
      "[<tf.Variable 'simple_dense_15/kernel:0' shape=(1, 1) dtype=float32, numpy=array([[-0.025837]], dtype=float32)>, <tf.Variable 'simple_dense_15/bias:0' shape=(1,) dtype=float32, numpy=array([0.], dtype=float32)>]\n"
     ]
    }
   ],
   "source": [
    "class SimpleDense(Layer):\n",
    "    \n",
    "    def __init__(self, units=32):\n",
    "        super(SimpleDense, self).__init__()\n",
    "        self.units = units\n",
    "        \n",
    "    def build(self, input_shape):\n",
    "        w_init = tf.random_normal_initializer()\n",
    "        self.w = tf.Variable(name=\"kernel\",\n",
    "                             initial_value = w_init(shape=(input_shape[-1], self.units), dtype='float32'),\n",
    "                             trainable = True)\n",
    "        b_init = tf.zeros_initializer()\n",
    "        self.b = tf.Variable(name=\"bias\",\n",
    "                             initial_value = b_init(self.units), dtype='float32', trainable=True)\n",
    "        \n",
    "    def call(self, inputs):\n",
    "        return tf.matmul(inputs, self.w) + self.b\n",
    "        \n",
    "my_dense = SimpleDense(units=1)\n",
    "x = tf.ones((1,1))\n",
    "y = my_dense(x)\n",
    "print(my_dense.variables)"
   ]
  },
  {
   "cell_type": "code",
   "execution_count": 36,
   "id": "b8b0237f",
   "metadata": {},
   "outputs": [
    {
     "name": "stdout",
     "output_type": "stream",
     "text": [
      "[[18.981544]]\n",
      "[<tf.Variable 'simple_dense_18/kernel:0' shape=(1, 1) dtype=float32, numpy=array([[1.9973252]], dtype=float32)>, <tf.Variable 'simple_dense_18/bias:0' shape=(1,) dtype=float32, numpy=array([-0.9917073], dtype=float32)>]\n"
     ]
    }
   ],
   "source": [
    "xs = np.array([-1.0,  0.0, 1.0, 2.0, 3.0, 4.0], dtype='float32')\n",
    "ys = np.array([-3.0, -1.0, 1.0, 3.0, 5.0, 7.0], dtype='float32')\n",
    "\n",
    "my_layer = SimpleDense(units=1)\n",
    "model = tf.keras.Sequential([my_layer])\n",
    "model.compile(optimizer='sgd', loss='mean_squared_error')\n",
    "model.fit(xs, ys, epochs=500, verbose=0)\n",
    "print(model.predict([10]))\n",
    "print(my_layer.variables)"
   ]
  },
  {
   "cell_type": "markdown",
   "id": "60c504d6",
   "metadata": {},
   "source": [
    " "
   ]
  },
  {
   "cell_type": "markdown",
   "id": "8be37f6e",
   "metadata": {},
   "source": [
    " "
   ]
  },
  {
   "cell_type": "markdown",
   "id": "5b5cc07e",
   "metadata": {},
   "source": [
    "### Custom Layers with Activation"
   ]
  },
  {
   "cell_type": "code",
   "execution_count": 55,
   "id": "59b011df",
   "metadata": {},
   "outputs": [],
   "source": [
    "from tensorflow.keras.layers import Layer\n",
    "from tensorflow.keras.losses import Loss\n",
    "from tensorflow.keras.layers import Lambda, Dense, Input\n",
    "from tensorflow.keras.models import Model\n",
    "from keras import backend as  K\n",
    "\n",
    "class SimpleDenseAct(Layer):\n",
    "    \n",
    "    def __init__(self, units=32, activation = None):\n",
    "        super(SimpleDenseAct, self).__init__()\n",
    "        self.units = units\n",
    "        self.activation = tf.keras.activations.get(activation)\n",
    "        \n",
    "    def build(self, input_shape):\n",
    "        w_init = tf.random_normal_initializer()\n",
    "        \n",
    "        self.w = tf.Variable(name = \"kernel\",\n",
    "                             initial_value = w_init(shape=(input_shape[-1], self.units), dtype='float32'),\n",
    "                             trainable=True)\n",
    "        b_init = tf.zeros_initializer()\n",
    "\n",
    "        self.b = tf.Variable(name = \"bias\",\n",
    "                             initial_value = b_init(self.units, dtype='float32'),\n",
    "                             trainable=True)\n",
    "        super().build(input_shape)\n",
    "        \n",
    "    def call(self, inputs):\n",
    "        return self.activation(tf.matmul(inputs, self.w) + self.b)\n",
    "\n",
    "    \n",
    "class HuberLoss(Loss):\n",
    "    \n",
    "    def __init__(self, threshold=1):\n",
    "        super(HuberLoss, self).__init__()\n",
    "        self.threshold = threshold\n",
    "    \n",
    "    def call(self, y_true, y_pred):\n",
    "        error = y_true - y_pred\n",
    "        condition = K.abs(error) <= threshold\n",
    "        small_error = K.square(error) / 2\n",
    "        large_error = threshold * (K.abs(error) - 0.5* threshold)\n",
    "        return tf.where(condition, small_error, large_error)\n",
    "\n",
    "    \n",
    "def relu_layer(x):\n",
    "    return K.max(0, x)"
   ]
  },
  {
   "cell_type": "code",
   "execution_count": 56,
   "id": "06f0265c",
   "metadata": {},
   "outputs": [],
   "source": [
    "input_layer = Input(shape=(8,))\n",
    "my_layer = SimpleDenseAct(units=32)(input_layer)\n",
    "last_layer = Dense(1)(my_layer)\n",
    "model  = Model(inputs=input_layer, outputs=last_layer)"
   ]
  },
  {
   "cell_type": "code",
   "execution_count": 57,
   "id": "4225170b",
   "metadata": {},
   "outputs": [
    {
     "name": "stdout",
     "output_type": "stream",
     "text": [
      "Model: \"model_1\"\n",
      "_________________________________________________________________\n",
      "Layer (type)                 Output Shape              Param #   \n",
      "=================================================================\n",
      "input_6 (InputLayer)         [(None, 8)]               0         \n",
      "_________________________________________________________________\n",
      "simple_dense_act_4 (SimpleDe (None, 32)                288       \n",
      "_________________________________________________________________\n",
      "dense_2 (Dense)              (None, 1)                 33        \n",
      "=================================================================\n",
      "Total params: 321\n",
      "Trainable params: 321\n",
      "Non-trainable params: 0\n",
      "_________________________________________________________________\n"
     ]
    }
   ],
   "source": [
    "model.summary()"
   ]
  },
  {
   "cell_type": "code",
   "execution_count": null,
   "id": "09949c5e",
   "metadata": {},
   "outputs": [],
   "source": []
  }
 ],
 "metadata": {
  "kernelspec": {
   "display_name": "Python 3 (ipykernel)",
   "language": "python",
   "name": "python3"
  },
  "language_info": {
   "codemirror_mode": {
    "name": "ipython",
    "version": 3
   },
   "file_extension": ".py",
   "mimetype": "text/x-python",
   "name": "python",
   "nbconvert_exporter": "python",
   "pygments_lexer": "ipython3",
   "version": "3.9.7"
  }
 },
 "nbformat": 4,
 "nbformat_minor": 5
}
