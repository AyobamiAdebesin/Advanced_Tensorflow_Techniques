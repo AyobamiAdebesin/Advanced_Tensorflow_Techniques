{
 "cells": [
  {
   "cell_type": "code",
   "execution_count": 40,
   "metadata": {},
   "outputs": [],
   "source": [
    "import tensorflow as tf\n",
    "import numpy as np\n",
    "from tqdm import tqdm"
   ]
  },
  {
   "cell_type": "code",
   "execution_count": 41,
   "metadata": {},
   "outputs": [],
   "source": [
    "# Gradient Tape walkthrough\n",
    "\n",
    "\n",
    "# Create dummy dataset\n",
    "def function_to_learn(x):\n",
    "    return (2 * x - 1)\n",
    "\n",
    "x_s = np.array([i for i in range(10)], dtype=float)\n",
    "y_s = np.array(list(map(function_to_learn, x_s)), dtype=float)"
   ]
  },
  {
   "cell_type": "code",
   "execution_count": 42,
   "metadata": {},
   "outputs": [],
   "source": [
    "# Trainable variables\n",
    "weights = tf.Variable(np.random.random(), trainable=True)\n",
    "biases = tf.Variable(np.random.random(), trainable = True)"
   ]
  },
  {
   "cell_type": "code",
   "execution_count": 43,
   "metadata": {},
   "outputs": [
    {
     "data": {
      "text/plain": [
       "<tf.Variable 'Variable:0' shape=() dtype=float32, numpy=0.77432173>"
      ]
     },
     "execution_count": 43,
     "metadata": {},
     "output_type": "execute_result"
    }
   ],
   "source": [
    "weights"
   ]
  },
  {
   "cell_type": "code",
   "execution_count": 44,
   "metadata": {},
   "outputs": [],
   "source": [
    "# Loss function\n",
    "def simple_loss(y_true, y_pred):\n",
    "    return tf.abs(y_true - y_pred)\n",
    "\n",
    "# Learning_rate\n",
    "LEARNING_RATE = 0.001"
   ]
  },
  {
   "cell_type": "code",
   "execution_count": 45,
   "metadata": {},
   "outputs": [
    {
     "name": "stderr",
     "output_type": "stream",
     "text": [
      "100%|██████████| 500/500 [00:02<00:00, 178.67it/s]"
     ]
    },
    {
     "name": "stdout",
     "output_type": "stream",
     "text": [
      "y ~ 1.954326868057251 x + -0.996303141117096\n"
     ]
    },
    {
     "name": "stderr",
     "output_type": "stream",
     "text": [
      "\n"
     ]
    }
   ],
   "source": [
    "def fit_data(real_x, real_y):\n",
    "    with tf.GradientTape(persistent=True) as tape:\n",
    "        # Make prediction\n",
    "        pred_y = weights * real_x + biases\n",
    "        loss = simple_loss(real_y, pred_y)\n",
    "\n",
    "        \n",
    "    # Calculate gradients\n",
    "    w_gradient = tape.gradient(loss, weights)\n",
    "    b_gradient = tape.gradient(loss, biases)\n",
    "\n",
    "    # Update variables\n",
    "    weights.assign_sub(w_gradient * LEARNING_RATE)\n",
    "    biases.assign_sub(b_gradient * LEARNING_RATE)\n",
    "\n",
    "\n",
    "# Training loop\n",
    "for _ in tqdm(range(500)):\n",
    "    fit_data(x_s, y_s)\n",
    "\n",
    "print(f'y ~ {weights.numpy()} x + {biases.numpy()}')"
   ]
  },
  {
   "cell_type": "code",
   "execution_count": 36,
   "metadata": {},
   "outputs": [
    {
     "name": "stdout",
     "output_type": "stream",
     "text": [
      "tf.Tensor(155, shape=(), dtype=int32)\n"
     ]
    }
   ],
   "source": [
    "a = tf.constant([[5,7], [2,1]])\n",
    "b = tf.add(a, 2)\n",
    "c = b**2\n",
    "d = tf.reduce_sum(c)\n",
    "print(d)"
   ]
  },
  {
   "cell_type": "code",
   "execution_count": null,
   "metadata": {},
   "outputs": [],
   "source": []
  }
 ],
 "metadata": {
  "interpreter": {
   "hash": "2d974c4b7c9167b3c2df7ef2f40c9ab050914ef25a32a81d1263224e0dc77032"
  },
  "kernelspec": {
   "display_name": "Python 3.9.7 ('tf')",
   "language": "python",
   "name": "python3"
  },
  "language_info": {
   "codemirror_mode": {
    "name": "ipython",
    "version": 3
   },
   "file_extension": ".py",
   "mimetype": "text/x-python",
   "name": "python",
   "nbconvert_exporter": "python",
   "pygments_lexer": "ipython3",
   "version": "3.9.7"
  },
  "orig_nbformat": 4
 },
 "nbformat": 4,
 "nbformat_minor": 2
}
