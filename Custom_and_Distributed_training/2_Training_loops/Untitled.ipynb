{
 "cells": [
  {
   "cell_type": "markdown",
   "id": "81d103b8",
   "metadata": {},
   "source": [
    "### Training steps and data pipeline"
   ]
  },
  {
   "cell_type": "code",
   "execution_count": 5,
   "id": "e22dda17",
   "metadata": {},
   "outputs": [],
   "source": [
    "import tensorflow as tf\n",
    "import numpy as np\n",
    "import pandas as pd\n",
    "import matplotlib.pyplot as plt\n",
    "def base_model():\n",
    "    inputs = tf.keras.Input(shape=(784,), name='clothing')\n",
    "    x = tf.keras.layers.Dense(64, activation='relu', name=\"dense_1\")(inputs)\n",
    "    x = tf.keras.layers.Dense(64, activation='relu', name=\"dense_2\")(x)\n",
    "    outputs = tf.keras.layers.Dense(10, activation='softmax', name=\"predictions\")(x)\n",
    "    model = tf.keras.Model(inputs=inputs, outputs=outputs)\n",
    "    return model\n",
    "    "
   ]
  },
  {
   "cell_type": "code",
   "execution_count": null,
   "id": "a26e38ca",
   "metadata": {},
   "outputs": [],
   "source": []
  }
 ],
 "metadata": {
  "kernelspec": {
   "display_name": "Python 3 (ipykernel)",
   "language": "python",
   "name": "python3"
  },
  "language_info": {
   "codemirror_mode": {
    "name": "ipython",
    "version": 3
   },
   "file_extension": ".py",
   "mimetype": "text/x-python",
   "name": "python",
   "nbconvert_exporter": "python",
   "pygments_lexer": "ipython3",
   "version": "3.9.7"
  }
 },
 "nbformat": 4,
 "nbformat_minor": 5
}
