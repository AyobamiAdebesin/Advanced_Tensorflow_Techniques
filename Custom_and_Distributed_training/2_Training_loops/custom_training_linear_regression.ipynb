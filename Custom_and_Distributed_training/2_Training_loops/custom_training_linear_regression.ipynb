{
 "cells": [
  {
   "cell_type": "markdown",
   "id": "bcfce861",
   "metadata": {},
   "source": [
    "### Custom Training Loops"
   ]
  },
  {
   "cell_type": "code",
   "execution_count": 3,
   "id": "689c2b52",
   "metadata": {},
   "outputs": [],
   "source": [
    "import tensorflow as tf\n",
    "import numpy as np\n",
    "import matplotlib.pyplot as plt"
   ]
  },
  {
   "cell_type": "code",
   "execution_count": 4,
   "id": "17177a93",
   "metadata": {},
   "outputs": [],
   "source": [
    "# Define the model\n",
    "class Model:\n",
    "    def __init__(self):\n",
    "        self.weight = tf.Variable(5.0)\n",
    "        self.bias = tf.Variable(0.0)\n",
    "    \n",
    "    def __call__(self, x):\n",
    "        return self.weight * x + self.bias"
   ]
  },
  {
   "cell_type": "code",
   "execution_count": 6,
   "id": "4bcd0d60",
   "metadata": {},
   "outputs": [],
   "source": [
    "# Prepare the training data\n",
    "TRUE_w = 3.0\n",
    "TRUE_b = 2.0\n",
    "NUM_EXAMPLES = 1000\n",
    "\n",
    "random_xs = tf.random.normal(shape=[NUM_EXAMPLES])\n",
    "ys = (TRUE_w * random_xs) + TRUE_b"
   ]
  },
  {
   "cell_type": "code",
   "execution_count": 9,
   "id": "448cdc1a",
   "metadata": {},
   "outputs": [],
   "source": [
    "# Define Loss function\n",
    "def loss(y_true, y_pred):\n",
    "    return tf.reduce_mean(tf.square(y_true - y_pred))"
   ]
  },
  {
   "cell_type": "code",
   "execution_count": 15,
   "id": "5ef175af",
   "metadata": {},
   "outputs": [],
   "source": [
    "# define the training loop\n",
    "def train(model, inputs, outputs, learning_rate):\n",
    "    with tf.GradientTape() as tape:\n",
    "        curr_loss = loss(outputs, model(inputs))\n",
    "    dw, db = tape.gradient(curr_loss, [model.weight, model.bias])\n",
    "    \n",
    "    model.weight.assign_sub(learning_rate * dw)\n",
    "    model.bias.assign_sub(learning_rate * db)"
   ]
  },
  {
   "cell_type": "code",
   "execution_count": 19,
   "id": "d0827ec2",
   "metadata": {},
   "outputs": [
    {
     "name": "stderr",
     "output_type": "stream",
     "text": [
      "100%|█████████████████████████████████████████████████████████████████████████████████| 50/50 [00:00<00:00, 277.78it/s]\n"
     ]
    }
   ],
   "source": [
    "# Train the model\n",
    "from tqdm import tqdm\n",
    "model = Model()\n",
    "epochs = range(50)\n",
    "for epoch in tqdm(epochs):\n",
    "    train(model, random_xs, ys, learning_rate=0.1)"
   ]
  },
  {
   "cell_type": "code",
   "execution_count": 20,
   "id": "8d614b90",
   "metadata": {},
   "outputs": [
    {
     "data": {
      "text/plain": [
       "<tf.Variable 'Variable:0' shape=() dtype=float32, numpy=1.9999793>"
      ]
     },
     "execution_count": 20,
     "metadata": {},
     "output_type": "execute_result"
    }
   ],
   "source": [
    "model.bias"
   ]
  },
  {
   "cell_type": "code",
   "execution_count": 22,
   "id": "1d9affed",
   "metadata": {},
   "outputs": [
    {
     "data": {
      "text/plain": [
       "<tf.Variable 'Variable:0' shape=() dtype=float32, numpy=3.000001>"
      ]
     },
     "execution_count": 22,
     "metadata": {},
     "output_type": "execute_result"
    }
   ],
   "source": [
    "model.weight"
   ]
  },
  {
   "cell_type": "code",
   "execution_count": null,
   "id": "c54d8e19",
   "metadata": {},
   "outputs": [],
   "source": []
  }
 ],
 "metadata": {
  "kernelspec": {
   "display_name": "Python 3 (ipykernel)",
   "language": "python",
   "name": "python3"
  },
  "language_info": {
   "codemirror_mode": {
    "name": "ipython",
    "version": 3
   },
   "file_extension": ".py",
   "mimetype": "text/x-python",
   "name": "python",
   "nbconvert_exporter": "python",
   "pygments_lexer": "ipython3",
   "version": "3.9.7"
  }
 },
 "nbformat": 4,
 "nbformat_minor": 5
}
